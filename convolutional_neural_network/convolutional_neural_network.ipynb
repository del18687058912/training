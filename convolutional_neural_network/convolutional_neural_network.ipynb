{
 "cells": [
  {
   "cell_type": "markdown",
   "metadata": {
    "collapsed": true,
    "deletable": true,
    "editable": true
   },
   "source": [
    "# 深度学习（Deep Learning）培训"
   ]
  },
  {
   "cell_type": "markdown",
   "metadata": {
    "deletable": true,
    "editable": true
   },
   "source": [
    "\n",
    "## 根本目的：为了找出解决问题的函数。    问题-> **f**-> 解\n",
    "  \n",
    "### 找寻该函数的一种方法：神经网络，它是机器学习的其中一种方法 \n",
    "<br/>"
   ]
  },
  {
   "cell_type": "markdown",
   "metadata": {
    "deletable": true,
    "editable": true
   },
   "source": [
    "## 目录\n",
    "### 神经网络（Neural Networks）\n",
    "### ➡️ 卷积神经网络（Convolutional Neural Networks）⬅️\n",
    "### 循环神经网络（Recurrent Neural Networks）\n",
    "### 生成对抗神经网络（Generative Adversarial Networks）\n",
    "<br/>"
   ]
  },
  {
   "cell_type": "markdown",
   "metadata": {
    "deletable": true,
    "editable": true
   },
   "source": [
    "## 卷积神经网络（Convolutional Neural Networks）"
   ]
  },
  {
   "cell_type": "markdown",
   "metadata": {
    "deletable": true,
    "editable": true
   },
   "source": [
    "### 模型评价和验证"
   ]
  },
  {
   "cell_type": "markdown",
   "metadata": {
    "collapsed": true,
    "deletable": true,
    "editable": true
   },
   "source": [
    "#### 训练集和测试集\n",
    "训练集：用来训练模型\n",
    "测试集：用来评价模型的好坏，永远不能用测试集来训练，也要防止测试集变相泄漏到训练集中。（例如：根据测试集的好坏来调参）"
   ]
  },
  {
   "cell_type": "code",
   "execution_count": 10,
   "metadata": {
    "collapsed": false,
    "deletable": true,
    "editable": true
   },
   "outputs": [],
   "source": [
    "#使用scikit-learn切分数据集\n",
    "import numpy as np\n",
    "from sklearn.model_selection import train_test_split\n",
    "\n",
    "X=np.random.random((4,4))\n",
    "Y=np.random.randint(2,size=(4,1))\n",
    "\n",
    "X_train,X_test,Y_train,Y_test=train_test_split(X,Y,test_size=0.25)\n"
   ]
  },
  {
   "cell_type": "code",
   "execution_count": 11,
   "metadata": {
    "collapsed": false,
    "deletable": true,
    "editable": true
   },
   "outputs": [
    {
     "data": {
      "text/plain": [
       "array([[ 0.10575871,  0.75410023,  0.2901971 ,  0.62866254],\n",
       "       [ 0.41947819,  0.37146312,  0.61168032,  0.8465467 ],\n",
       "       [ 0.94173012,  0.62027886,  0.37586211,  0.04994684]])"
      ]
     },
     "execution_count": 11,
     "metadata": {},
     "output_type": "execute_result"
    }
   ],
   "source": [
    "X_train"
   ]
  },
  {
   "cell_type": "code",
   "execution_count": 12,
   "metadata": {
    "collapsed": false,
    "deletable": true,
    "editable": true
   },
   "outputs": [
    {
     "data": {
      "text/plain": [
       "array([[ 0.27371723,  0.2375995 ,  0.40185761,  0.49925464]])"
      ]
     },
     "execution_count": 12,
     "metadata": {},
     "output_type": "execute_result"
    }
   ],
   "source": [
    "X_test"
   ]
  },
  {
   "cell_type": "code",
   "execution_count": 14,
   "metadata": {
    "collapsed": false,
    "deletable": true,
    "editable": true
   },
   "outputs": [
    {
     "data": {
      "text/plain": [
       "array([[1],\n",
       "       [1],\n",
       "       [0]])"
      ]
     },
     "execution_count": 14,
     "metadata": {},
     "output_type": "execute_result"
    }
   ],
   "source": [
    "Y_train"
   ]
  },
  {
   "cell_type": "code",
   "execution_count": 15,
   "metadata": {
    "collapsed": false,
    "deletable": true,
    "editable": true
   },
   "outputs": [
    {
     "data": {
      "text/plain": [
       "array([[0]])"
      ]
     },
     "execution_count": 15,
     "metadata": {},
     "output_type": "execute_result"
    }
   ],
   "source": [
    "Y_test"
   ]
  },
  {
   "cell_type": "markdown",
   "metadata": {
    "deletable": true,
    "editable": true
   },
   "source": [
    "#### 评价分类\n",
    "##### 混淆矩阵（Confusion Matrix）\n",
    "又称为可能性表格或是错误矩阵。可视化的看看分类效果，用来评价分类（Classification）\n",
    "\n",
    "|     |被诊断有病      |被诊断无病     |\n",
    "|---|--------------|--------------|\n",
    "|有病|True Positive |False Negative|\n",
    "|没病|False Positive|True Negative |"
   ]
  },
  {
   "cell_type": "code",
   "execution_count": 18,
   "metadata": {
    "collapsed": false,
    "deletable": true,
    "editable": true
   },
   "outputs": [
    {
     "data": {
      "text/plain": [
       "0.5"
      ]
     },
     "execution_count": 18,
     "metadata": {},
     "output_type": "execute_result"
    }
   ],
   "source": [
    "from sklearn.metrics import accuracy_score\n",
    "y_pred = [0, 2, 1, 3]\n",
    "y_true = [0, 1, 2, 3]\n",
    "score=accuracy_score(y_true,y_pred) # 0和3是对的，1和2错了，所以0.5\n",
    "score"
   ]
  },
  {
   "cell_type": "markdown",
   "metadata": {
    "deletable": true,
    "editable": true
   },
   "source": [
    "#### 评价回归\n",
    "##### 平均绝对误差（Mean Absolute Error）\n",
    "但是有缺点就是无法微分，不能应用梯度下降的误差函数"
   ]
  },
  {
   "cell_type": "code",
   "execution_count": 23,
   "metadata": {
    "collapsed": false,
    "deletable": true,
    "editable": true
   },
   "outputs": [
    {
     "data": {
      "text/plain": [
       "0.0"
      ]
     },
     "execution_count": 23,
     "metadata": {},
     "output_type": "execute_result"
    }
   ],
   "source": [
    "from sklearn.metrics import mean_absolute_error\n",
    "from sklearn.linear_model import LinearRegression\n",
    "\n",
    "X=np.array([1,2,3,4]).reshape((-1,1)) # 列向量,-1表示自动推理该位置有多少个数\n",
    "Y=np.array([1,2,3,4]).reshape((-1,1)) # 列向量\n",
    "\n",
    "regression=LinearRegression()\n",
    "regression.fit(X,Y)\n",
    "\n",
    "guesses=regression.predict(X)\n",
    "\n",
    "error=mean_absolute_error(Y,guesses)\n",
    "error"
   ]
  },
  {
   "cell_type": "markdown",
   "metadata": {
    "deletable": true,
    "editable": true
   },
   "source": [
    "##### 均方差（Mean Squared Error）\n",
    "可微分，适合做可梯度下降的误差函数"
   ]
  },
  {
   "cell_type": "code",
   "execution_count": 26,
   "metadata": {
    "collapsed": false,
    "deletable": true,
    "editable": true
   },
   "outputs": [
    {
     "data": {
      "text/plain": [
       "0.0"
      ]
     },
     "execution_count": 26,
     "metadata": {},
     "output_type": "execute_result"
    }
   ],
   "source": [
    "from sklearn.metrics import mean_squared_error\n",
    "from sklearn.linear_model import LinearRegression\n",
    "\n",
    "X=np.array([1,2,3,4]).reshape((-1,1)) # 列向量,-1表示自动推理该位置有多少个数\n",
    "Y=np.array([1,2,3,4]).reshape((-1,1)) # 列向量\n",
    "\n",
    "regression=LinearRegression()\n",
    "regression.fit(X,Y)\n",
    "\n",
    "guesses=regression.predict(X)\n",
    "\n",
    "error=mean_squared_error(Y,guesses)\n",
    "error"
   ]
  },
  {
   "cell_type": "markdown",
   "metadata": {
    "deletable": true,
    "editable": true
   },
   "source": [
    "##### $R^2$ 决定系数（$R^2$ Score）\n",
    "又叫拟合优度\n",
    "<img src=\"r2_score.jpg\" width=450 height=450 />\n",
    "最简模型的误差是最大的  \n",
    "好的模型：越接近1，因为模型的误差相对于最简模型越小则该项越接近0\n",
    "\n",
    "公式：  \n",
    "If $\\hat{y}_i$ is the predicted value of the i-th sample and y_i is the corresponding true value, then the score R² estimated over $n_{\\text{samples}}$ is defined as\n",
    "\n",
    "$R^2(y, \\hat{y}) = 1 - \\frac{\\sum_{i=0}^{n_{\\text{samples}} - 1} (y_i - \\hat{y}_i)^2}{\\sum_{i=0}^{n_\\text{samples} - 1} (y_i - \\bar{y})^2}$\n",
    "\n",
    "where $\\bar{y} =  \\frac{1}{n_{\\text{samples}}} \\sum_{i=0}^{n_{\\text{samples}} - 1} y_i$."
   ]
  },
  {
   "cell_type": "code",
   "execution_count": 27,
   "metadata": {
    "collapsed": false,
    "deletable": true,
    "editable": true
   },
   "outputs": [
    {
     "data": {
      "text/plain": [
       "0.90785714285714292"
      ]
     },
     "execution_count": 27,
     "metadata": {},
     "output_type": "execute_result"
    }
   ],
   "source": [
    "from sklearn.metrics import r2_score\n",
    "y_true=np.array([1,2,4])\n",
    "y_pred=np.array([1.3,2.5,3.7])\n",
    "score=r2_score(y_true,y_pred)\n",
    "score"
   ]
  },
  {
   "cell_type": "markdown",
   "metadata": {
    "deletable": true,
    "editable": true
   },
   "source": [
    "##### 模型复杂度图（Model Complexity Graph）\n",
    "欠拟合（underfitting）：训练集上表现的不好。 Error due to bias  \n",
    "* 模型小，收到数据影响小，variance比较小，但是可能模拟不到真实情况，bias整个都偏离了正确的   \n",
    "\n",
    "过拟合（overfitting）：训练集上变现的太好，以至于试图记住训练集。 Error due to variance\n",
    "* 模型大，更容易存在符合真实情况的权重使模型符合真实情况，bias更准，但是更容易收到数据带来的误差影响，variance更大\n",
    "\n",
    "<img src=\"error_from_where.jpg\" width=450 height=450 />\n",
    "红色是每次取样后的拟合的线，蓝色是全部红线平均后的线，黑色是真实的\n",
    "<img src=\"error_from_which.jpg\" width=450 height=450 />\n",
    "\n",
    "知道了欠拟合和过拟合的情况，就能运用验证集来挑选模型的拟合程度\n",
    "<img src=\"cross_validation.jpg\" width=450 height=450 />\n",
    "<img src=\"model_complexity_graph.jpg\" width=550 height=550 />"
   ]
  },
  {
   "cell_type": "markdown",
   "metadata": {
    "deletable": true,
    "editable": true
   },
   "source": [
    "##### K-Fold Cross Validation\n",
    "<img src=\"k_fold_cross_validation.jpg\" width=450 height=450 />"
   ]
  },
  {
   "cell_type": "code",
   "execution_count": 36,
   "metadata": {
    "collapsed": false,
    "deletable": true,
    "editable": true
   },
   "outputs": [
    {
     "name": "stdout",
     "output_type": "stream",
     "text": [
      "TRAIN: [2 3] TEST: [0 1]\n",
      "TRAIN DATA: [[1, 2], [3, 4]] TRAIN LABEL: [3, 4] TEST: [[1, 2], [3, 4]] TEST LABEL: [1, 2]\n",
      "TRAIN: [0 1] TEST: [2 3]\n",
      "TRAIN DATA: [[1, 2], [3, 4]] TRAIN LABEL: [1, 2] TEST: [[1, 2], [3, 4]] TEST LABEL: [3, 4]\n"
     ]
    }
   ],
   "source": [
    "from sklearn.model_selection import KFold\n",
    "X = np.array([[1, 2], [3, 4], [1, 2], [3, 4]])\n",
    "y = np.array([1, 2, 3, 4])\n",
    "\n",
    "kf = KFold(n_splits=2,shuffle=False)  #做两次K-Fold\n",
    "for train_index, test_index in kf.split(X):  #每次取出对应的索引\n",
    "    X_train, X_test = X[train_index], X[test_index]\n",
    "    y_train, y_test = y[train_index], y[test_index]\n",
    "    print(\"TRAIN:\", train_index, \"TEST:\", test_index)\n",
    "    print(\"TRAIN DATA:\", X_train.tolist(), \"TRAIN LABEL:\",y_train.tolist(), \"TEST:\", X_test.tolist(),\"TEST LABEL:\",y_test.tolist())"
   ]
  },
  {
   "cell_type": "markdown",
   "metadata": {
    "collapsed": true,
    "deletable": true,
    "editable": true
   },
   "source": [
    "### 文本情感分析\n",
    "[Sentiment Analysis with Numpy](https://github.com/udacity/deep-learning/tree/master/sentiment-network): Andrew Trask leads you through building a sentiment analysis model, predicting if some text is positive or negative."
   ]
  },
  {
   "cell_type": "markdown",
   "metadata": {
    "collapsed": true,
    "deletable": true,
    "editable": true
   },
   "source": [
    "### Intro to TFLearn"
   ]
  },
  {
   "cell_type": "markdown",
   "metadata": {
    "collapsed": true,
    "deletable": true,
    "editable": true
   },
   "source": [
    "#### 新的激活函数（Activation functions）\n",
    "Sigmoid作激活函数  \n",
    "缺点：每经过一层，衰减的厉害\n",
    "<img src=\"derivative_sigmoid.jpg\" width=450 height=450 />\n",
    "\n",
    "普通问题：  \n",
    "Rectified Linear Units简称ReLUs作激活函数，用来替代Sigmoid函数，他的微分为1，不会衰减。  \n",
    "公式：  \n",
    "$f(x)=max(x,0)$\n",
    "<img src=\"relu.jpg\" width=450 height=450 />\n",
    "缺点：\n",
    "要控制好learning rate，否则大的梯度会导致ReLUs的神经元的权重变成0，不再对数据有反应，相当于该神经元死亡\n",
    "\n",
    "面对多分类的问题：  \n",
    "通常使用Softmax作最后一层，输出层的激活函数\n",
    "<img src=\"softmax.jpg\" width=450 height=450 />\n",
    "将普通的输出，转化为输出之和为1的概率\n",
    "公式：  \n",
    "$ \\sigma(z)_j = \\frac {e^{z_j}}{\\sum_{k=1}^K e^{z_k}} $ for $ j = 1,...,K $\n",
    "<img src=\"softmax_math.jpg\" width=450 height=450 />"
   ]
  },
  {
   "cell_type": "markdown",
   "metadata": {},
   "source": [
    "#### 新的误差函数（Loss Function）\n",
    "##### 分类交叉熵（Categorical Cross-Entropy）\n",
    "独热码（one-hot encoding）：用来表示目前是多种状态的哪一个状态  \n",
    "如：  \n",
    "标签 $ y = [0,0,0,0,1,0,0,0,0,0] $   \n",
    "预测值 $ \\hat y = [0.047,0.048,0.061,0.07,0.330,0.062,0.001,0.213,0.013,0.150] $\n",
    "\n",
    "交叉熵（Cross Entropy）是Shannon信息论中一个重要概念，主要用于度量两个概率分布间的差异性信息。\n",
    "公式及计算方法：\n",
    "<img src=\"cross_entropy_calculation.jpg\" width=450 height=450 />"
   ]
  },
  {
   "cell_type": "code",
   "execution_count": null,
   "metadata": {
    "collapsed": true
   },
   "outputs": [],
   "source": []
  }
 ],
 "metadata": {
  "kernelspec": {
   "display_name": "Python 3",
   "language": "python",
   "name": "python3"
  },
  "language_info": {
   "codemirror_mode": {
    "name": "ipython",
    "version": 3
   },
   "file_extension": ".py",
   "mimetype": "text/x-python",
   "name": "python",
   "nbconvert_exporter": "python",
   "pygments_lexer": "ipython3",
   "version": "3.6.0"
  }
 },
 "nbformat": 4,
 "nbformat_minor": 2
}
